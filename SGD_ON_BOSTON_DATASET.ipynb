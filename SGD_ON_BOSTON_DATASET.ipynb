{
 "cells": [
  {
   "cell_type": "markdown",
   "metadata": {},
   "source": [
    "# SGD Implementation On Boston Housing Dataset"
   ]
  },
  {
   "cell_type": "markdown",
   "metadata": {},
   "source": [
    "# About the dataset"
   ]
  },
  {
   "cell_type": "markdown",
   "metadata": {},
   "source": [
    "Data Set Characteristics:\n",
    "\n",
    ":Number of Instances: 506 \n",
    "\n",
    ":Number of Attributes: 13 numeric/categorical predictive\n",
    "\n",
    ":Median Value (attribute 14) is usually the target\n",
    "\n",
    ":Attribute Information (in order):\n",
    "\n",
    "    - CRIM     per capita crime rate by town\n",
    "    - ZN       proportion of residential land zoned for lots over 25,000 sq.ft.\n",
    "    - INDUS    proportion of non-retail business acres per town\n",
    "    - CHAS     Charles River dummy variable (= 1 if tract bounds river; 0 otherwise)\n",
    "    - NOX      nitric oxides concentration (parts per 10 million)\n",
    "    - RM       average number of rooms per dwelling\n",
    "    - AGE      proportion of owner-occupied units built prior to 1940\n",
    "    - DIS      weighted distances to five Boston employment centres\n",
    "    - RAD      index of accessibility to radial highways\n",
    "    - TAX      full-value property-tax rate per $10,000\n",
    "   \n",
    "    - PTRATIO   Pupil-teacher ratio by town\n",
    "    - B        1000(Bk - 0.63)^2 where Bk is the proportion of blacks by town\n",
    "    - LSTAT    % lower status of the population\n",
    "    - MEDV     Median value of owner-occupied homes in $1000's\n",
    "\n",
    ":Missing Attribute Values: None\n",
    "\n",
    ":Creator: Harrison, D. and Rubinfeld, D.L.\n",
    "\n",
    "This is a copy of UCI ML housing dataset. http://archive.ics.uci.edu/ml/datasets/Housing\n",
    "\n",
    "This dataset was taken from the StatLib library which is maintained at Carnegie Mellon University.\n",
    "\n",
    "The Boston house-price data of Harrison, D. and Rubinfeld, D.L. 'Hedonic prices and the demand for clean air', J. Environ. Economics & Management, vol.5, 81-102, 1978. Used in Belsley, Kuh & Welsch, 'Regression diagnostics ...', Wiley, 1980. N.B. Various transformations are used in the table on pages 244-261 of the latter.\n",
    "\n",
    "The Boston house-price data has been used in many machine learning papers that address regression problems.\n",
    "\n",
    "References\n",
    "\n",
    "Belsley, Kuh & Welsch, 'Regression diagnostics: Identifying Influential Data and Sources of Collinearity', Wiley, 1980. 244-261.\n",
    "Quinlan,R. (1993). Combining Instance-Based and Model-Based Learning. In Proceedings on the Tenth International Conference of Machine Learning, 236-243, University of Massachusetts, Amherst. Morgan Kaufmann.\n",
    "many more! (see http://archive.ics.uci.edu/ml/datasets/Housing)"
   ]
  },
  {
   "cell_type": "markdown",
   "metadata": {},
   "source": [
    "# Objective"
   ]
  },
  {
   "cell_type": "markdown",
   "metadata": {},
   "source": [
    "Implement stochastic gradient descent from scratch and comapre its perfomance with sgd of sklearn using boston dataset"
   ]
  },
  {
   "cell_type": "markdown",
   "metadata": {},
   "source": [
    "# Data Preprocessing"
   ]
  },
  {
   "cell_type": "code",
   "execution_count": 207,
   "metadata": {},
   "outputs": [],
   "source": [
    "# Importing libraries\n",
    "import numpy as np\n",
    "import pandas as pd\n",
    "import matplotlib.pyplot as plt\n",
    "import seaborn as sns\n",
    "from sklearn.preprocessing import StandardScaler\n",
    "from sklearn.model_selection import train_test_split\n",
    "from sklearn.metrics import mean_squared_error\n",
    "\n",
    "# Loading Boston dataset\n",
    "from sklearn.datasets import load_boston\n",
    "boston_dt = load_boston()"
   ]
  },
  {
   "cell_type": "code",
   "execution_count": 19,
   "metadata": {},
   "outputs": [
    {
     "name": "stdout",
     "output_type": "stream",
     "text": [
      "['CRIM' 'ZN' 'INDUS' 'CHAS' 'NOX' 'RM' 'AGE' 'DIS' 'RAD' 'TAX' 'PTRATIO'\n",
      " 'B' 'LSTAT']\n"
     ]
    }
   ],
   "source": [
    "print(boston_dt.feature_names)"
   ]
  },
  {
   "cell_type": "code",
   "execution_count": 24,
   "metadata": {},
   "outputs": [],
   "source": [
    "#converting data to a dataframe\n",
    "boston_data = pd.DataFrame(data=boston_dt.data,columns=boston_dt.feature_names)\n",
    "price = boston_dt.target"
   ]
  },
  {
   "cell_type": "code",
   "execution_count": 25,
   "metadata": {},
   "outputs": [
    {
     "data": {
      "text/html": [
       "<div>\n",
       "<style scoped>\n",
       "    .dataframe tbody tr th:only-of-type {\n",
       "        vertical-align: middle;\n",
       "    }\n",
       "\n",
       "    .dataframe tbody tr th {\n",
       "        vertical-align: top;\n",
       "    }\n",
       "\n",
       "    .dataframe thead th {\n",
       "        text-align: right;\n",
       "    }\n",
       "</style>\n",
       "<table border=\"1\" class=\"dataframe\">\n",
       "  <thead>\n",
       "    <tr style=\"text-align: right;\">\n",
       "      <th></th>\n",
       "      <th>CRIM</th>\n",
       "      <th>ZN</th>\n",
       "      <th>INDUS</th>\n",
       "      <th>CHAS</th>\n",
       "      <th>NOX</th>\n",
       "      <th>RM</th>\n",
       "      <th>AGE</th>\n",
       "      <th>DIS</th>\n",
       "      <th>RAD</th>\n",
       "      <th>TAX</th>\n",
       "      <th>PTRATIO</th>\n",
       "      <th>B</th>\n",
       "      <th>LSTAT</th>\n",
       "    </tr>\n",
       "  </thead>\n",
       "  <tbody>\n",
       "    <tr>\n",
       "      <th>0</th>\n",
       "      <td>0.00632</td>\n",
       "      <td>18.0</td>\n",
       "      <td>2.31</td>\n",
       "      <td>0.0</td>\n",
       "      <td>0.538</td>\n",
       "      <td>6.575</td>\n",
       "      <td>65.2</td>\n",
       "      <td>4.0900</td>\n",
       "      <td>1.0</td>\n",
       "      <td>296.0</td>\n",
       "      <td>15.3</td>\n",
       "      <td>396.90</td>\n",
       "      <td>4.98</td>\n",
       "    </tr>\n",
       "    <tr>\n",
       "      <th>1</th>\n",
       "      <td>0.02731</td>\n",
       "      <td>0.0</td>\n",
       "      <td>7.07</td>\n",
       "      <td>0.0</td>\n",
       "      <td>0.469</td>\n",
       "      <td>6.421</td>\n",
       "      <td>78.9</td>\n",
       "      <td>4.9671</td>\n",
       "      <td>2.0</td>\n",
       "      <td>242.0</td>\n",
       "      <td>17.8</td>\n",
       "      <td>396.90</td>\n",
       "      <td>9.14</td>\n",
       "    </tr>\n",
       "    <tr>\n",
       "      <th>2</th>\n",
       "      <td>0.02729</td>\n",
       "      <td>0.0</td>\n",
       "      <td>7.07</td>\n",
       "      <td>0.0</td>\n",
       "      <td>0.469</td>\n",
       "      <td>7.185</td>\n",
       "      <td>61.1</td>\n",
       "      <td>4.9671</td>\n",
       "      <td>2.0</td>\n",
       "      <td>242.0</td>\n",
       "      <td>17.8</td>\n",
       "      <td>392.83</td>\n",
       "      <td>4.03</td>\n",
       "    </tr>\n",
       "    <tr>\n",
       "      <th>3</th>\n",
       "      <td>0.03237</td>\n",
       "      <td>0.0</td>\n",
       "      <td>2.18</td>\n",
       "      <td>0.0</td>\n",
       "      <td>0.458</td>\n",
       "      <td>6.998</td>\n",
       "      <td>45.8</td>\n",
       "      <td>6.0622</td>\n",
       "      <td>3.0</td>\n",
       "      <td>222.0</td>\n",
       "      <td>18.7</td>\n",
       "      <td>394.63</td>\n",
       "      <td>2.94</td>\n",
       "    </tr>\n",
       "    <tr>\n",
       "      <th>4</th>\n",
       "      <td>0.06905</td>\n",
       "      <td>0.0</td>\n",
       "      <td>2.18</td>\n",
       "      <td>0.0</td>\n",
       "      <td>0.458</td>\n",
       "      <td>7.147</td>\n",
       "      <td>54.2</td>\n",
       "      <td>6.0622</td>\n",
       "      <td>3.0</td>\n",
       "      <td>222.0</td>\n",
       "      <td>18.7</td>\n",
       "      <td>396.90</td>\n",
       "      <td>5.33</td>\n",
       "    </tr>\n",
       "  </tbody>\n",
       "</table>\n",
       "</div>"
      ],
      "text/plain": [
       "      CRIM    ZN  INDUS  CHAS    NOX     RM   AGE     DIS  RAD    TAX  \\\n",
       "0  0.00632  18.0   2.31   0.0  0.538  6.575  65.2  4.0900  1.0  296.0   \n",
       "1  0.02731   0.0   7.07   0.0  0.469  6.421  78.9  4.9671  2.0  242.0   \n",
       "2  0.02729   0.0   7.07   0.0  0.469  7.185  61.1  4.9671  2.0  242.0   \n",
       "3  0.03237   0.0   2.18   0.0  0.458  6.998  45.8  6.0622  3.0  222.0   \n",
       "4  0.06905   0.0   2.18   0.0  0.458  7.147  54.2  6.0622  3.0  222.0   \n",
       "\n",
       "   PTRATIO       B  LSTAT  \n",
       "0     15.3  396.90   4.98  \n",
       "1     17.8  396.90   9.14  \n",
       "2     17.8  392.83   4.03  \n",
       "3     18.7  394.63   2.94  \n",
       "4     18.7  396.90   5.33  "
      ]
     },
     "execution_count": 25,
     "metadata": {},
     "output_type": "execute_result"
    }
   ],
   "source": [
    "#printing head of dataframe\n",
    "boston_data.head()"
   ]
  },
  {
   "cell_type": "code",
   "execution_count": 271,
   "metadata": {},
   "outputs": [],
   "source": [
    "#splitting data\n",
    "X_train, X_test, y_train, y_test = train_test_split(boston_data, price, test_size=0.33)"
   ]
  },
  {
   "cell_type": "code",
   "execution_count": 272,
   "metadata": {},
   "outputs": [],
   "source": [
    "# applying column standardization on train and test data\n",
    "scale=StandardScaler()\n",
    "X_train = scale.fit_transform(X_train)\n",
    "X_test = scale.transform(X_test)"
   ]
  },
  {
   "cell_type": "code",
   "execution_count": 273,
   "metadata": {},
   "outputs": [],
   "source": [
    "#creating a dataframe out of test data\n",
    "X = np.hstack((X_train,y_train.reshape(-1,1)))\n",
    "X_tr = pd.DataFrame(X,columns=['CRIM' ,'ZN' ,'INDUS', 'CHAS', 'NOX' ,'RM' ,'AGE' ,'DIS', 'RAD', 'TAX' ,'PTRATIO','B' ,'LSTAT','Price'])"
   ]
  },
  {
   "cell_type": "code",
   "execution_count": 274,
   "metadata": {},
   "outputs": [
    {
     "data": {
      "text/html": [
       "<div>\n",
       "<style scoped>\n",
       "    .dataframe tbody tr th:only-of-type {\n",
       "        vertical-align: middle;\n",
       "    }\n",
       "\n",
       "    .dataframe tbody tr th {\n",
       "        vertical-align: top;\n",
       "    }\n",
       "\n",
       "    .dataframe thead th {\n",
       "        text-align: right;\n",
       "    }\n",
       "</style>\n",
       "<table border=\"1\" class=\"dataframe\">\n",
       "  <thead>\n",
       "    <tr style=\"text-align: right;\">\n",
       "      <th></th>\n",
       "      <th>CRIM</th>\n",
       "      <th>ZN</th>\n",
       "      <th>INDUS</th>\n",
       "      <th>CHAS</th>\n",
       "      <th>NOX</th>\n",
       "      <th>RM</th>\n",
       "      <th>AGE</th>\n",
       "      <th>DIS</th>\n",
       "      <th>RAD</th>\n",
       "      <th>TAX</th>\n",
       "      <th>PTRATIO</th>\n",
       "      <th>B</th>\n",
       "      <th>LSTAT</th>\n",
       "      <th>Price</th>\n",
       "    </tr>\n",
       "  </thead>\n",
       "  <tbody>\n",
       "    <tr>\n",
       "      <th>0</th>\n",
       "      <td>-0.414026</td>\n",
       "      <td>-0.477878</td>\n",
       "      <td>-0.199145</td>\n",
       "      <td>-0.256978</td>\n",
       "      <td>0.271047</td>\n",
       "      <td>-1.274391</td>\n",
       "      <td>0.159198</td>\n",
       "      <td>-0.489280</td>\n",
       "      <td>-0.404416</td>\n",
       "      <td>-0.100689</td>\n",
       "      <td>0.327953</td>\n",
       "      <td>0.445035</td>\n",
       "      <td>1.165992</td>\n",
       "      <td>19.7</td>\n",
       "    </tr>\n",
       "    <tr>\n",
       "      <th>1</th>\n",
       "      <td>-0.345446</td>\n",
       "      <td>-0.477878</td>\n",
       "      <td>-0.427822</td>\n",
       "      <td>-0.256978</td>\n",
       "      <td>-0.138364</td>\n",
       "      <td>-0.412282</td>\n",
       "      <td>0.473444</td>\n",
       "      <td>0.197856</td>\n",
       "      <td>-0.635804</td>\n",
       "      <td>-0.605217</td>\n",
       "      <td>1.185721</td>\n",
       "      <td>0.332307</td>\n",
       "      <td>0.261689</td>\n",
       "      <td>17.5</td>\n",
       "    </tr>\n",
       "    <tr>\n",
       "      <th>2</th>\n",
       "      <td>-0.449964</td>\n",
       "      <td>-0.477878</td>\n",
       "      <td>-0.863047</td>\n",
       "      <td>-0.256978</td>\n",
       "      <td>-0.338715</td>\n",
       "      <td>-0.548783</td>\n",
       "      <td>-0.315741</td>\n",
       "      <td>0.836871</td>\n",
       "      <td>-0.520110</td>\n",
       "      <td>-1.103739</td>\n",
       "      <td>0.804491</td>\n",
       "      <td>0.421823</td>\n",
       "      <td>-0.312760</td>\n",
       "      <td>18.5</td>\n",
       "    </tr>\n",
       "    <tr>\n",
       "      <th>3</th>\n",
       "      <td>-0.261726</td>\n",
       "      <td>-0.477878</td>\n",
       "      <td>-0.427822</td>\n",
       "      <td>-0.256978</td>\n",
       "      <td>-0.138364</td>\n",
       "      <td>-0.469756</td>\n",
       "      <td>0.484156</td>\n",
       "      <td>0.071711</td>\n",
       "      <td>-0.635804</td>\n",
       "      <td>-0.605217</td>\n",
       "      <td>1.185721</td>\n",
       "      <td>-1.379720</td>\n",
       "      <td>2.084272</td>\n",
       "      <td>13.2</td>\n",
       "    </tr>\n",
       "    <tr>\n",
       "      <th>4</th>\n",
       "      <td>-0.422332</td>\n",
       "      <td>-0.477878</td>\n",
       "      <td>-0.066364</td>\n",
       "      <td>-0.256978</td>\n",
       "      <td>-0.565198</td>\n",
       "      <td>0.070499</td>\n",
       "      <td>-0.569280</td>\n",
       "      <td>0.243531</td>\n",
       "      <td>-0.635804</td>\n",
       "      <td>-0.785406</td>\n",
       "      <td>0.042031</td>\n",
       "      <td>0.422490</td>\n",
       "      <td>-0.255455</td>\n",
       "      <td>24.4</td>\n",
       "    </tr>\n",
       "  </tbody>\n",
       "</table>\n",
       "</div>"
      ],
      "text/plain": [
       "       CRIM        ZN     INDUS      CHAS       NOX        RM       AGE  \\\n",
       "0 -0.414026 -0.477878 -0.199145 -0.256978  0.271047 -1.274391  0.159198   \n",
       "1 -0.345446 -0.477878 -0.427822 -0.256978 -0.138364 -0.412282  0.473444   \n",
       "2 -0.449964 -0.477878 -0.863047 -0.256978 -0.338715 -0.548783 -0.315741   \n",
       "3 -0.261726 -0.477878 -0.427822 -0.256978 -0.138364 -0.469756  0.484156   \n",
       "4 -0.422332 -0.477878 -0.066364 -0.256978 -0.565198  0.070499 -0.569280   \n",
       "\n",
       "        DIS       RAD       TAX   PTRATIO         B     LSTAT  Price  \n",
       "0 -0.489280 -0.404416 -0.100689  0.327953  0.445035  1.165992   19.7  \n",
       "1  0.197856 -0.635804 -0.605217  1.185721  0.332307  0.261689   17.5  \n",
       "2  0.836871 -0.520110 -1.103739  0.804491  0.421823 -0.312760   18.5  \n",
       "3  0.071711 -0.635804 -0.605217  1.185721 -1.379720  2.084272   13.2  \n",
       "4  0.243531 -0.635804 -0.785406  0.042031  0.422490 -0.255455   24.4  "
      ]
     },
     "execution_count": 274,
     "metadata": {},
     "output_type": "execute_result"
    }
   ],
   "source": [
    "X_tr.head(5)"
   ]
  },
  {
   "cell_type": "markdown",
   "metadata": {},
   "source": [
    "# Implemention of stochastic gradient descent [ Manual SGD ]"
   ]
  },
  {
   "cell_type": "code",
   "execution_count": 326,
   "metadata": {},
   "outputs": [],
   "source": [
    "# this function returns weight (w) and bias (b)\n",
    "# here we have taken sgd with batch size=15\n",
    "\n",
    "#code written refering https://github.com/PushpendraSinghChauhan/SGD-Linear-Regression/blob/master/Implement%20Stochastic%20Gradient%20Descent%20on%20Linear%20Regression%20.ipynb\n",
    "\n",
    "def s_g_d(data,  learning_rate=0.01, no_of_iterations=100):\n",
    "    #Initialize first weight and bias\n",
    "    w_final = np.zeros(shape=(1,13))\n",
    "    w0_final = 0    #bias\n",
    "    r = learning_rate    \n",
    "    it=1\n",
    "        \n",
    "    while(it <= no_of_iterations):\n",
    "        w_old = w_final\n",
    "        w0_old = w0_final\n",
    "        w = np.zeros(shape=(1,13))\n",
    "        w0  = 0\n",
    "        #we are taking sample of 15 datapoints  ie, k = 15\n",
    "        x_data=data.sample(15)\n",
    "        x=np.array(x_data.drop('Price',axis=1))\n",
    "        y=np.array(x_data['Price'])\n",
    "        \n",
    "        \"\"\"\n",
    "        #this following part of code will  returns \n",
    "        ---                              ---\n",
    "        \\                                \\\n",
    "            xi (yi - ybar)      and        (yi- ybar)  \n",
    "        /                                /\n",
    "        ---                              ---\n",
    "        \"\"\"\n",
    "        \n",
    "        # for all sample points that we take(here 15)\n",
    "        for i in range(15):  # \n",
    "           \n",
    "            # here we are doing ybar = w^T * xi  + w0\n",
    "            y_bar = np.dot(w_old,x[i]) + w0_old\n",
    "            \n",
    "            # here we are calculating wi = wi + xi(yi - ybar)\n",
    "            w += x[i] * (y[i] - y_bar)\n",
    "            \n",
    "            #similarly  w0 = w0 + (yi - ybar)\n",
    "            w0 += (y[i] - y_bar)\n",
    "            \n",
    "        \n",
    "        \"\"\"\n",
    "        In following part we will multpliy\n",
    "        ---                              ---\n",
    "        \\                                \\                             - 2\n",
    "            xi (yi - ybar)      and        (yi- ybar)      with        ---\n",
    "        /                                /                              n\n",
    "        ---                              ---\n",
    "        \n",
    "        \"\"\"\n",
    "        n = x.shape[0]  # taking length which is 15\n",
    "        w *= (-2/n)\n",
    "        w0 *= (-2/n)\n",
    "        \n",
    "        # now updating the parameters we get \n",
    "        w_final =  (w_old - r*w)\n",
    "        w0_final =  (w0_old - r*w0)\n",
    "        \n",
    "        it += 1\n",
    "        \n",
    "        \n",
    "        \n",
    "    # returns output after all iterations\n",
    "    return w_final, w0_final\n",
    "\n",
    "###########################################################################################################\n",
    "#prediction function for predicting test data using weight and bias we found\n",
    "def prediction(data,w,w0):\n",
    "    y_predicted = []\n",
    "    length = len(data)\n",
    "    for i in range(length):\n",
    "        y_bar=np.asscalar(np.dot(w,data[i])+w0)\n",
    "        y_predicted.append(y_bar)\n",
    "    return np.array(y_predicted)\n",
    "\n"
   ]
  },
  {
   "cell_type": "markdown",
   "metadata": {},
   "source": [
    "## SGD with learning rate = 0.01"
   ]
  },
  {
   "cell_type": "code",
   "execution_count": 298,
   "metadata": {},
   "outputs": [
    {
     "data": {
      "image/png": "[encoded data removed]",
      "text/plain": [
       "<Figure size 432x288 with 1 Axes>"
      ]
     },
     "metadata": {
      "needs_background": "light"
     },
     "output_type": "display_data"
    },
    {
     "name": "stdout",
     "output_type": "stream",
     "text": [
      "weights \n",
      " [[-0.52925715 -0.01144495 -0.45592963  0.6710027  -0.6958361   3.66554124\n",
      "  -0.41408999 -1.1017068   0.2460445  -0.72670831 -1.84412597  0.87074738\n",
      "  -2.65576309]]\n",
      "bias  [19.38325056]\n",
      "MSE is 29.137148276015303\n"
     ]
    }
   ],
   "source": [
    "#getting weights and bias\n",
    "weights,bias = s_g_d(data=X_tr,learning_rate=0.01)\n",
    "y_prediction = prediction(X_test,weight,bias)\n",
    "plt.scatter(y_test,y_prediction)\n",
    "plt.grid()\n",
    "plt.title('Scatter-plot b/w actual y and predicted y')\n",
    "plt.xlabel('y-actual')\n",
    "plt.ylabel('y-predicted')\n",
    "plt.show()\n",
    "print('weights \\n {}'.format(weights))\n",
    "print('bias  {}'.format(bias))\n",
    "print('MSE is {}'.format(mean_squared_error(y_test,y_prediction)))"
   ]
  },
  {
   "cell_type": "markdown",
   "metadata": {},
   "source": [
    "## SGD with learning rate = 0.1"
   ]
  },
  {
   "cell_type": "code",
   "execution_count": 303,
   "metadata": {},
   "outputs": [
    {
     "data": {
      "image/png": "[encoded data removed]",
      "text/plain": [
       "<Figure size 432x288 with 1 Axes>"
      ]
     },
     "metadata": {
      "needs_background": "light"
     },
     "output_type": "display_data"
    },
    {
     "name": "stdout",
     "output_type": "stream",
     "text": [
      "weights \n",
      " [[ 0.0781263   0.97089098  0.07930509  1.33499147 -2.31168222  2.29460524\n",
      "  -0.70298685 -2.29590343  1.48210563 -1.34446774 -2.26866395  0.93740996\n",
      "  -1.9535583 ]]\n",
      "bias  [22.93417847]\n",
      "MSE is 21.813236188543396\n"
     ]
    }
   ],
   "source": [
    "#getting weights and bias\n",
    "weights,bias = s_g_d(data=X_tr,learning_rate=0.1)\n",
    "y_prediction = prediction(X_test,weight,bias)\n",
    "plt.scatter(y_test,y_prediction)\n",
    "plt.grid()\n",
    "plt.title('Scatter-plot b/w actual y and predicted y')\n",
    "plt.xlabel('y-actual')\n",
    "plt.ylabel('y-predicted')\n",
    "plt.show()\n",
    "print('weights \\n {}'.format(weights))\n",
    "print('bias  {}'.format(bias))\n",
    "print('MSE is {}'.format(mean_squared_error(y_test,y_prediction)))"
   ]
  },
  {
   "cell_type": "markdown",
   "metadata": {},
   "source": [
    "## SGD with learning rate = 0.125"
   ]
  },
  {
   "cell_type": "code",
   "execution_count": 321,
   "metadata": {},
   "outputs": [
    {
     "data": {
      "image/png": "[encoded data removed]",
      "text/plain": [
       "<Figure size 432x288 with 1 Axes>"
      ]
     },
     "metadata": {
      "needs_background": "light"
     },
     "output_type": "display_data"
    },
    {
     "name": "stdout",
     "output_type": "stream",
     "text": [
      "weights \n",
      " [[-1.79749259  0.33704391 -1.01804609 -1.22067433 -2.88492757  2.17184532\n",
      "   0.32799776 -3.13123707  1.38722807 -1.6402194  -3.08478438  0.26569978\n",
      "  -2.30522273]]\n",
      "bias  [22.33626209]\n",
      "MSE is 21.28080551465867\n"
     ]
    }
   ],
   "source": [
    "#getting weights and bias\n",
    "weights,bias = s_g_d(data=X_tr,learning_rate=0.125)\n",
    "y_prediction = prediction(X_test,weight,bias)\n",
    "plt.scatter(y_test,y_prediction)\n",
    "plt.grid()\n",
    "plt.title('Scatter-plot b/w actual y and predicted y')\n",
    "plt.xlabel('y-actual')\n",
    "plt.ylabel('y-predicted')\n",
    "plt.show()\n",
    "print('weights \\n {}'.format(weights))\n",
    "print('bias  {}'.format(bias))\n",
    "print('MSE is {}'.format(mean_squared_error(y_test,y_prediction)))"
   ]
  },
  {
   "cell_type": "markdown",
   "metadata": {},
   "source": [
    "## SGD with learning rate = 0.25"
   ]
  },
  {
   "cell_type": "code",
   "execution_count": 304,
   "metadata": {},
   "outputs": [
    {
     "data": {
      "image/png": "[encoded data removed]",
      "text/plain": [
       "<Figure size 432x288 with 1 Axes>"
      ]
     },
     "metadata": {
      "needs_background": "light"
     },
     "output_type": "display_data"
    },
    {
     "name": "stdout",
     "output_type": "stream",
     "text": [
      "weights \n",
      " [[-0.17663273 -0.07607747 -0.14946072  0.75626256 -0.86421356  3.25357126\n",
      "   0.18711368 -2.20752117  1.20629736 -0.69238064 -1.95072148  0.85645742\n",
      "  -3.18498149]]\n",
      "bias  [22.15486132]\n",
      "MSE is 21.26064106630606\n"
     ]
    }
   ],
   "source": [
    "#getting weights and bias\n",
    "weights,bias = s_g_d(data=X_tr,learning_rate=0.025)\n",
    "y_prediction = prediction(X_test,weight,bias)\n",
    "plt.scatter(y_test,y_prediction)\n",
    "plt.grid()\n",
    "plt.title('Scatter-plot b/w actual y and predicted y')\n",
    "plt.xlabel('y-actual')\n",
    "plt.ylabel('y-predicted')\n",
    "plt.show()\n",
    "print('weights \\n {}'.format(weights))\n",
    "print('bias  {}'.format(bias))\n",
    "print('MSE is {}'.format(mean_squared_error(y_test,y_prediction)))"
   ]
  },
  {
   "cell_type": "markdown",
   "metadata": {},
   "source": [
    "## SGD With learning rate = 0.5"
   ]
  },
  {
   "cell_type": "code",
   "execution_count": 308,
   "metadata": {},
   "outputs": [
    {
     "data": {
      "image/png": "[encoded data removed]",
      "text/plain": [
       "<Figure size 432x288 with 1 Axes>"
      ]
     },
     "metadata": {
      "needs_background": "light"
     },
     "output_type": "display_data"
    },
    {
     "name": "stdout",
     "output_type": "stream",
     "text": [
      "weights \n",
      " [[ 5.05482300e+71 -6.68536081e+71  1.01820663e+72  2.77849551e+70\n",
      "   9.47886610e+71  2.72250234e+71  4.93784441e+71 -8.66619753e+71\n",
      "   1.10151916e+72  1.14005080e+72  7.41318415e+71  3.82643164e+71\n",
      "   4.16999066e+71]]\n",
      "bias  [2.03722725e+71]\n",
      "MSE is 4.150294871786402e+142\n"
     ]
    }
   ],
   "source": [
    "#getting weights and bias\n",
    "weights,bias = s_g_d(data=X_tr,learning_rate=0.5)\n",
    "y_prediction = prediction(X_test,weight,bias)\n",
    "plt.scatter(y_test,y_prediction)\n",
    "plt.grid()\n",
    "plt.title('Scatter-plot b/w actual y and predicted y')\n",
    "plt.xlabel('y-actual')\n",
    "plt.ylabel('y-predicted')\n",
    "plt.show()\n",
    "print('weights \\n {}'.format(weights))\n",
    "print('bias  {}'.format(bias))\n",
    "print('MSE is {}'.format(mean_squared_error(y_test,y_prediction)))"
   ]
  },
  {
   "cell_type": "markdown",
   "metadata": {},
   "source": [
    "## SGD with learning rate = 1"
   ]
  },
  {
   "cell_type": "code",
   "execution_count": 301,
   "metadata": {},
   "outputs": [
    {
     "data": {
      "image/png": "[encoded data removed]",
      "text/plain": [
       "<Figure size 432x288 with 1 Axes>"
      ]
     },
     "metadata": {
      "needs_background": "light"
     },
     "output_type": "display_data"
    },
    {
     "name": "stdout",
     "output_type": "stream",
     "text": [
      "weights \n",
      " [[ 2.70438883e+103 -6.29024854e+102  3.34674477e+103  8.28355336e+102\n",
      "   2.28471359e+103 -2.13940026e+103  2.52342411e+103 -3.19393518e+103\n",
      "   3.60600148e+103  3.40739554e+103  1.79148633e+103 -5.44445447e+103\n",
      "   4.40441843e+103]]\n",
      "bias  [5.77868292e+102]\n",
      "MSE is 3.339317629359234e+205\n"
     ]
    }
   ],
   "source": [
    "#getting weights and bias\n",
    "weights,bias = s_g_d(data=X_tr,learning_rate=1)\n",
    "y_prediction = prediction(X_test,weight,bias)\n",
    "plt.scatter(y_test,y_prediction)\n",
    "plt.grid()\n",
    "plt.title('Scatter-plot b/w actual y and predicted y')\n",
    "plt.xlabel('y-actual')\n",
    "plt.ylabel('y-predicted')\n",
    "plt.show()\n",
    "print('weights \\n {}'.format(weights))\n",
    "print('bias  {}'.format(bias))\n",
    "print('MSE is {}'.format(mean_squared_error(y_test,y_prediction)))"
   ]
  },
  {
   "cell_type": "markdown",
   "metadata": {},
   "source": [
    "# Using Sklear SGD Regressor"
   ]
  },
  {
   "cell_type": "markdown",
   "metadata": {},
   "source": [
    "## Sklearn SGD with learning rate =0.01"
   ]
  },
  {
   "cell_type": "code",
   "execution_count": 310,
   "metadata": {},
   "outputs": [
    {
     "name": "stderr",
     "output_type": "stream",
     "text": [
      "C:\\Users\\opc\\Anaconda3\\lib\\site-packages\\sklearn\\linear_model\\stochastic_gradient.py:183: FutureWarning: max_iter and tol parameters have been added in SGDRegressor in 0.19. If max_iter is set but tol is left unset, the default value for tol in 0.19 and 0.20 will be None (which is equivalent to -infinity, so it has no effect) but will change in 0.21 to 1e-3. Specify tol to silence this warning.\n",
      "  FutureWarning)\n"
     ]
    },
    {
     "data": {
      "image/png": "[encoded data removed]",
      "text/plain": [
       "<Figure size 432x288 with 1 Axes>"
      ]
     },
     "metadata": {
      "needs_background": "light"
     },
     "output_type": "display_data"
    },
    {
     "name": "stdout",
     "output_type": "stream",
     "text": [
      "weights: \n",
      " [-0.49424037  0.495052    0.68046927  0.99924773 -2.41277486  3.53073362\n",
      "  0.23636625 -3.20710684  2.9028846  -1.50955253 -2.06598016  0.1740338\n",
      " -3.34539705]\n",
      "MSE 26.46118264112982\n"
     ]
    }
   ],
   "source": [
    "from sklearn.linear_model import SGDRegressor\n",
    "reg = SGDRegressor(penalty='none',learning_rate='constant' , eta0=0.01, max_iter=100)\n",
    "reg.fit(X_train, y_train)\n",
    "y_prediction = reg.predict(X_test)\n",
    "plt.scatter(y_test,y_prediction)\n",
    "plt.grid()\n",
    "plt.title('Scatter-plot b/w actual y and predicted y')\n",
    "plt.xlabel('y-actual')\n",
    "plt.ylabel('y-predicted')\n",
    "plt.show()\n",
    "# Weights of Sklearn's SGD\n",
    "sklearn_sgd_weights = reg.coef_\n",
    "print('weights: \\n {}'.format(sklearn_sgd_weights))\n",
    "print('MSE {}'.format(mean_squared_error(y_test,y_prediction)))\n"
   ]
  },
  {
   "cell_type": "markdown",
   "metadata": {},
   "source": [
    "## Sklearn SGD with learning rate = 0.1"
   ]
  },
  {
   "cell_type": "code",
   "execution_count": 323,
   "metadata": {},
   "outputs": [
    {
     "name": "stderr",
     "output_type": "stream",
     "text": [
      "C:\\Users\\opc\\Anaconda3\\lib\\site-packages\\sklearn\\linear_model\\stochastic_gradient.py:183: FutureWarning: max_iter and tol parameters have been added in SGDRegressor in 0.19. If max_iter is set but tol is left unset, the default value for tol in 0.19 and 0.20 will be None (which is equivalent to -infinity, so it has no effect) but will change in 0.21 to 1e-3. Specify tol to silence this warning.\n",
      "  FutureWarning)\n"
     ]
    },
    {
     "data": {
      "image/png": "[encoded data removed]",
      "text/plain": [
       "<Figure size 432x288 with 1 Axes>"
      ]
     },
     "metadata": {
      "needs_background": "light"
     },
     "output_type": "display_data"
    },
    {
     "name": "stdout",
     "output_type": "stream",
     "text": [
      "weights: \n",
      " [-9.92794800e+10  2.01464923e+10  1.68063054e+10  5.92319504e+10\n",
      " -5.99396454e+10 -1.17647521e+10  2.26421900e+10 -2.82324082e+10\n",
      "  5.40597024e+10 -7.01784732e+09  3.97628727e+10  2.25636005e+10\n",
      " -1.03912600e+10]\n",
      "MSE 2.7514861972114786e+22\n"
     ]
    }
   ],
   "source": [
    "reg = SGDRegressor(penalty='none',learning_rate='constant' , eta0=0.1, max_iter=100)\n",
    "reg.fit(X_train, y_train)\n",
    "y_prediction = reg.predict(X_test)\n",
    "plt.scatter(y_test,y_prediction)\n",
    "plt.grid()\n",
    "plt.title('Scatter-plot b/w actual y and predicted y')\n",
    "plt.xlabel('y-actual')\n",
    "plt.ylabel('y-predicted')\n",
    "plt.show()\n",
    "# Weights of Sklearn's SGD\n",
    "sklearn_sgd_weights = reg.coef_\n",
    "print('weights: \\n {}'.format(sklearn_sgd_weights))\n",
    "print('MSE {}'.format(mean_squared_error(y_test,y_prediction)))"
   ]
  },
  {
   "cell_type": "markdown",
   "metadata": {},
   "source": [
    "## Sklearn SGD with learning rate =0.125"
   ]
  },
  {
   "cell_type": "code",
   "execution_count": 319,
   "metadata": {},
   "outputs": [
    {
     "name": "stderr",
     "output_type": "stream",
     "text": [
      "C:\\Users\\opc\\Anaconda3\\lib\\site-packages\\sklearn\\linear_model\\stochastic_gradient.py:183: FutureWarning: max_iter and tol parameters have been added in SGDRegressor in 0.19. If max_iter is set but tol is left unset, the default value for tol in 0.19 and 0.20 will be None (which is equivalent to -infinity, so it has no effect) but will change in 0.21 to 1e-3. Specify tol to silence this warning.\n",
      "  FutureWarning)\n"
     ]
    },
    {
     "data": {
      "image/png": "[encoded data removed]",
      "text/plain": [
       "<Figure size 432x288 with 1 Axes>"
      ]
     },
     "metadata": {
      "needs_background": "light"
     },
     "output_type": "display_data"
    },
    {
     "name": "stdout",
     "output_type": "stream",
     "text": [
      "weights: \n",
      " [-9.12844991e+10 -1.71451488e+11  4.36643656e+11  4.87865529e+10\n",
      "  1.03058352e+11  3.69099674e+11  7.47913937e+10 -8.22546398e+10\n",
      " -2.50720573e+10  3.78304561e+11 -1.84531303e+11  2.81349030e+11\n",
      "  4.28640095e+10]\n",
      "MSE 7.111392328710589e+23\n"
     ]
    }
   ],
   "source": [
    "reg = SGDRegressor(penalty='none',learning_rate='constant' , eta0=0.125, max_iter=100)\n",
    "reg.fit(X_train, y_train)\n",
    "y_prediction = reg.predict(X_test)\n",
    "plt.scatter(y_test,y_prediction)\n",
    "plt.grid()\n",
    "plt.title('Scatter-plot b/w actual y and predicted y')\n",
    "plt.xlabel('y-actual')\n",
    "plt.ylabel('y-predicted')\n",
    "plt.show()\n",
    "# Weights of Sklearn's SGD\n",
    "sklearn_sgd_weights = reg.coef_\n",
    "print('weights: \\n {}'.format(sklearn_sgd_weights))\n",
    "print('MSE {}'.format(mean_squared_error(y_test,y_prediction)))"
   ]
  },
  {
   "cell_type": "markdown",
   "metadata": {},
   "source": [
    "## Sklearn SGD with learning rate =0.25"
   ]
  },
  {
   "cell_type": "code",
   "execution_count": 318,
   "metadata": {},
   "outputs": [
    {
     "name": "stderr",
     "output_type": "stream",
     "text": [
      "C:\\Users\\opc\\Anaconda3\\lib\\site-packages\\sklearn\\linear_model\\stochastic_gradient.py:183: FutureWarning: max_iter and tol parameters have been added in SGDRegressor in 0.19. If max_iter is set but tol is left unset, the default value for tol in 0.19 and 0.20 will be None (which is equivalent to -infinity, so it has no effect) but will change in 0.21 to 1e-3. Specify tol to silence this warning.\n",
      "  FutureWarning)\n"
     ]
    },
    {
     "data": {
      "image/png": "[encoded data removed]",
      "text/plain": [
       "<Figure size 432x288 with 1 Axes>"
      ]
     },
     "metadata": {
      "needs_background": "light"
     },
     "output_type": "display_data"
    },
    {
     "name": "stdout",
     "output_type": "stream",
     "text": [
      "weights: \n",
      " [-1.80041625e+11  1.13555516e+10 -9.55468918e+10  4.53398709e+11\n",
      "  8.16983211e+11 -7.95839855e+11 -6.66078491e+11 -3.47544674e+11\n",
      "  7.42925882e+11 -6.72327841e+11  2.98137384e+11  5.01748901e+11\n",
      " -1.50760143e+11]\n",
      "MSE 1.6883562333823673e+24\n"
     ]
    }
   ],
   "source": [
    "reg = SGDRegressor(penalty='none',learning_rate='constant' , eta0=0.25, max_iter=100)\n",
    "reg.fit(X_train, y_train)\n",
    "y_prediction = reg.predict(X_test)\n",
    "plt.scatter(y_test,y_prediction)\n",
    "plt.grid()\n",
    "plt.title('Scatter-plot b/w actual y and predicted y')\n",
    "plt.xlabel('y-actual')\n",
    "plt.ylabel('y-predicted')\n",
    "plt.show()\n",
    "# Weights of Sklearn's SGD\n",
    "sklearn_sgd_weights = reg.coef_\n",
    "print('weights: \\n {}'.format(sklearn_sgd_weights))\n",
    "print('MSE {}'.format(mean_squared_error(y_test,y_prediction)))"
   ]
  },
  {
   "cell_type": "markdown",
   "metadata": {},
   "source": [
    "## Sklearn SGD with learning rate =0.5"
   ]
  },
  {
   "cell_type": "code",
   "execution_count": 316,
   "metadata": {},
   "outputs": [
    {
     "name": "stderr",
     "output_type": "stream",
     "text": [
      "C:\\Users\\opc\\Anaconda3\\lib\\site-packages\\sklearn\\linear_model\\stochastic_gradient.py:183: FutureWarning: max_iter and tol parameters have been added in SGDRegressor in 0.19. If max_iter is set but tol is left unset, the default value for tol in 0.19 and 0.20 will be None (which is equivalent to -infinity, so it has no effect) but will change in 0.21 to 1e-3. Specify tol to silence this warning.\n",
      "  FutureWarning)\n"
     ]
    },
    {
     "data": {
      "image/png": "[encoded data removed]",
      "text/plain": [
       "<Figure size 432x288 with 1 Axes>"
      ]
     },
     "metadata": {
      "needs_background": "light"
     },
     "output_type": "display_data"
    },
    {
     "name": "stdout",
     "output_type": "stream",
     "text": [
      "weights: \n",
      " [-8.34087289e+11 -1.14944586e+12 -1.08312178e+12 -2.04036895e+12\n",
      " -2.36156608e+12  1.52107254e+11 -2.93473791e+11  5.89276943e+11\n",
      " -2.76241054e+11 -2.31446421e+12 -1.29486611e+12  1.72403328e+12\n",
      "  9.39278551e+11]\n",
      "MSE 5.64151157261051e+25\n"
     ]
    }
   ],
   "source": [
    "from sklearn.linear_model import SGDRegressor\n",
    "reg = SGDRegressor(penalty='none',learning_rate='constant' , eta0=0.5, max_iter=100)\n",
    "reg.fit(X_train, y_train)\n",
    "y_prediction = reg.predict(X_test)\n",
    "plt.scatter(y_test,y_prediction)\n",
    "plt.grid()\n",
    "plt.title('Scatter-plot b/w actual y and predicted y')\n",
    "plt.xlabel('y-actual')\n",
    "plt.ylabel('y-predicted')\n",
    "plt.show()\n",
    "# Weights of Sklearn's SGD\n",
    "sklearn_sgd_weights = reg.coef_\n",
    "print('weights: \\n {}'.format(sklearn_sgd_weights))\n",
    "print('MSE {}'.format(mean_squared_error(y_test,y_prediction)))\n"
   ]
  },
  {
   "cell_type": "markdown",
   "metadata": {},
   "source": [
    "## Sklearn SGD with learning rate =1"
   ]
  },
  {
   "cell_type": "code",
   "execution_count": 324,
   "metadata": {},
   "outputs": [
    {
     "name": "stderr",
     "output_type": "stream",
     "text": [
      "C:\\Users\\opc\\Anaconda3\\lib\\site-packages\\sklearn\\linear_model\\stochastic_gradient.py:183: FutureWarning: max_iter and tol parameters have been added in SGDRegressor in 0.19. If max_iter is set but tol is left unset, the default value for tol in 0.19 and 0.20 will be None (which is equivalent to -infinity, so it has no effect) but will change in 0.21 to 1e-3. Specify tol to silence this warning.\n",
      "  FutureWarning)\n"
     ]
    },
    {
     "data": {
      "image/png": "[encoded data removed]",
      "text/plain": [
       "<Figure size 432x288 with 1 Axes>"
      ]
     },
     "metadata": {
      "needs_background": "light"
     },
     "output_type": "display_data"
    },
    {
     "name": "stdout",
     "output_type": "stream",
     "text": [
      "weights: \n",
      " [ 4.45366352e+12  2.64896280e+12 -3.48433496e+12  3.43217406e+12\n",
      "  2.07627534e+12 -3.82693643e+12 -1.18875494e+12  2.97146993e+12\n",
      " -3.05507399e+12 -1.13939634e+12  2.23499414e+11 -4.56769463e+11\n",
      " -4.04597576e+12]\n",
      "MSE 1.157658399379422e+26\n"
     ]
    }
   ],
   "source": [
    "from sklearn.linear_model import SGDRegressor\n",
    "reg = SGDRegressor(penalty='none',learning_rate='constant' , eta0=1, max_iter=100)\n",
    "reg.fit(X_train, y_train)\n",
    "y_prediction = reg.predict(X_test)\n",
    "plt.scatter(y_test,y_prediction)\n",
    "plt.grid()\n",
    "plt.title('Scatter-plot b/w actual y and predicted y')\n",
    "plt.xlabel('y-actual')\n",
    "plt.ylabel('y-predicted')\n",
    "plt.show()\n",
    "# Weights of Sklearn's SGD\n",
    "sklearn_sgd_weights = reg.coef_\n",
    "print('weights: \\n {}'.format(sklearn_sgd_weights))\n",
    "print('MSE {}'.format(mean_squared_error(y_test,y_prediction)))\n"
   ]
  },
  {
   "cell_type": "markdown",
   "metadata": {},
   "source": [
    "# Conclusion"
   ]
  },
  {
   "cell_type": "code",
   "execution_count": 1,
   "metadata": {},
   "outputs": [
    {
     "name": "stdout",
     "output_type": "stream",
     "text": [
      "+---------------+------------------------+------------------------+\n",
      "| Learning rate |     sgd_manual_mse     |    sklearn_sgd_mse     |\n",
      "+---------------+------------------------+------------------------+\n",
      "|      0.01     |   29.137148276015303   |   26.46118264112982    |\n",
      "|      0.1      |   21.813236188543396   | 2.7514861972114786e+22 |\n",
      "|     0.125     |   21.28080551465867    | 7.111392328710589e+23  |\n",
      "|      0.25     |   21.26064106630606    | 1.6883562333823673e+24 |\n",
      "|      0.5      | 4.150294871786402e+142 |  5.64151157261051e+25  |\n",
      "|       1       | 3.339317629359234e+205 | 1.157658399379422e+26  |\n",
      "+---------------+------------------------+------------------------+\n"
     ]
    }
   ],
   "source": [
    "from prettytable import PrettyTable\n",
    "x=PrettyTable()\n",
    "x.field_names=['Learning rate','sgd_manual_mse','sklearn_sgd_mse']\n",
    "x.add_row([0.01,29.137148276015303,26.46118264112982])\n",
    "x.add_row([0.1,21.813236188543396,2.7514861972114786e+22])\n",
    "x.add_row([0.125,21.28080551465867,7.111392328710589e+23])\n",
    "x.add_row([0.25,21.26064106630606,1.6883562333823673e+24])\n",
    "x.add_row([0.5,4.150294871786402e+142,5.64151157261051e+25])\n",
    "x.add_row([1,3.339317629359234e+205,1.157658399379422e+26])\n",
    "print(x)"
   ]
  },
  {
   "cell_type": "markdown",
   "metadata": {},
   "source": [
    "## Comparison of Weights "
   ]
  },
  {
   "cell_type": "markdown",
   "metadata": {},
   "source": [
    "### At learning rate 0.1"
   ]
  },
  {
   "cell_type": "code",
   "execution_count": 2,
   "metadata": {},
   "outputs": [
    {
     "name": "stdout",
     "output_type": "stream",
     "text": [
      "+--------------------+---------------------+\n",
      "| sgd_manual_weights | sklearn_sgd_weights |\n",
      "+--------------------+---------------------+\n",
      "|     0.0781263      |    -99279480000.0   |\n",
      "|     0.97089098     |    20146492300.0    |\n",
      "|     0.07930509     |    16806305400.0    |\n",
      "|     1.33499147     |    59231950400.0    |\n",
      "|    -2.31168222     |    -59939645400.0   |\n",
      "|     2.29460524     |    -11764752100.0   |\n",
      "|    -0.70298685     |    22642190000.0    |\n",
      "|    -2.29590343     |    -28232408200.0   |\n",
      "|     1.48210563     |    54059702400.0    |\n",
      "|    -1.34446774     |    -7017847320.0    |\n",
      "|    -2.26866395     |    39762872700.0    |\n",
      "|     0.93740996     |    22563600500.0    |\n",
      "|     -1.9535583     |    -10391260000.0   |\n",
      "+--------------------+---------------------+\n"
     ]
    }
   ],
   "source": [
    "#The following table will print weights of our manual sgd and sklearn sgd at learning rate 0.1 \n",
    "x=PrettyTable()\n",
    "x.field_names=['sgd_manual_weights','sklearn_sgd_weights']\n",
    "x.add_row([0.0781263,-9.92794800e+10]) \n",
    "x.add_row([0.97089098,2.01464923e+10])  \n",
    "x.add_row([0.07930509,1.68063054e+10])\n",
    "x.add_row([1.33499147,5.92319504e+10])\n",
    "x.add_row([-2.31168222, -5.99396454e+10]) \n",
    "x.add_row([2.29460524,-1.17647521e+10])\n",
    "x.add_row([-0.70298685 ,2.26421900e+10])\n",
    "x.add_row([-2.29590343 , -2.82324082e+10])\n",
    "x.add_row([1.48210563 ,5.40597024e+10])\n",
    "x.add_row([-1.34446774 , -7.01784732e+09])\n",
    "x.add_row([-2.26866395,3.97628727e+10])  \n",
    "x.add_row([0.93740996,2.25636005e+10])\n",
    "x.add_row([-1.9535583,-1.03912600e+10]) \n",
    "print(x)\n",
    "\n"
   ]
  },
  {
   "cell_type": "markdown",
   "metadata": {},
   "source": [
    "### At learning rate 0.5"
   ]
  },
  {
   "cell_type": "code",
   "execution_count": 10,
   "metadata": {},
   "outputs": [
    {
     "name": "stdout",
     "output_type": "stream",
     "text": [
      "+--------------------+---------------------+\n",
      "| sgd_manual_weights | sklearn_sgd_weights |\n",
      "+--------------------+---------------------+\n",
      "|    5.054823e+71    |   -834087289000.0   |\n",
      "|  -6.68536081e+71   |   -1149445860000.0  |\n",
      "|   1.01820663e+72   |   -1083121780000.0  |\n",
      "|   2.77849551e+70   |   -2040368950000.0  |\n",
      "|   9.4788661e+71    |   -2361566080000.0  |\n",
      "|   2.72250234e+71   |    152107254000.0   |\n",
      "|   4.93784441e+71   |   -293473791000.0   |\n",
      "|  -8.66619753e+71   |    589276943000.0   |\n",
      "|   1.10151916e+72   |   -276241054000.0   |\n",
      "|   1.1400508e+72    |   -2314464210000.0  |\n",
      "|   7.41318415e+71   |   -1294866110000.0  |\n",
      "|   3.82643164e+71   |   1724033280000.0   |\n",
      "|   4.16999066e+71   |    939278551000.0   |\n",
      "+--------------------+---------------------+\n"
     ]
    }
   ],
   "source": [
    "x=PrettyTable()\n",
    "x.field_names=['sgd_manual_weights','sklearn_sgd_weights']\n",
    "\n",
    "x.add_row([5.05482300e+71,-8.34087289e+11])\n",
    "x.add_row([-6.68536081e+71,-1.14944586e+12])  \n",
    "x.add_row([1.01820663e+72,-1.08312178e+12])  \n",
    "x.add_row([2.77849551e+70,-2.04036895e+12])\n",
    "x.add_row([9.47886610e+71,-2.36156608e+12])\n",
    "x.add_row([2.72250234e+71, 1.52107254e+11])\n",
    "x.add_row([4.93784441e+71,-2.93473791e+11 ])\n",
    "x.add_row([-8.66619753e+71,5.89276943e+11])\n",
    "x.add_row([1.10151916e+72,-2.76241054e+11])\n",
    "x.add_row([1.14005080e+72, -2.31446421e+12])\n",
    "x.add_row([7.41318415e+71, -1.29486611e+12]) \n",
    "x.add_row([3.82643164e+71,1.72403328e+12])\n",
    "x.add_row([4.16999066e+71,9.39278551e+11])\n",
    "print(x)\n"
   ]
  },
  {
   "cell_type": "markdown",
   "metadata": {},
   "source": [
    "### At learning rate 1"
   ]
  },
  {
   "cell_type": "code",
   "execution_count": 15,
   "metadata": {},
   "outputs": [
    {
     "name": "stdout",
     "output_type": "stream",
     "text": [
      "+--------------------+---------------------+\n",
      "| sgd_manual_weights | sklearn_sgd_weights |\n",
      "+--------------------+---------------------+\n",
      "|  2.70438883e+103   |   4453663520000.0   |\n",
      "|  -6.29024854e+102  |   2648962800000.0   |\n",
      "|  3.34674477e+103   |   -3484334960000.0  |\n",
      "|  8.28355336e+102   |   3432174060000.0   |\n",
      "|  2.28471359e+103   |   2076275340000.0   |\n",
      "|  -2.13940026e+103  |   -3826936430000.0  |\n",
      "|  2.52342411e+103   |   -1188754940000.0  |\n",
      "|  -3.19393518e+103  |   2971469930000.0   |\n",
      "|  3.60600148e+103   |   -3055073990000.0  |\n",
      "|  3.40739554e+103   |   -1139396340000.0  |\n",
      "|  1.79148633e+103   |    223499414000.0   |\n",
      "|  -5.44445447e+103  |   -456769463000.0   |\n",
      "|  4.40441843e+103   |   -4045975760000.0  |\n",
      "+--------------------+---------------------+\n"
     ]
    }
   ],
   "source": [
    "x=PrettyTable()\n",
    "col =['sgd_manual_weights','sklearn_sgd_weights']\n",
    "x.add_column(col[0],[ 2.70438883e+103 ,-6.29024854e+102,  3.34674477e+103 , 8.28355336e+102,\n",
    "   2.28471359e+103 ,-2.13940026e+103 , 2.52342411e+103, -3.19393518e+103,\n",
    "   3.60600148e+103 , 3.40739554e+103 , 1.79148633e+103 ,-5.44445447e+103,\n",
    "   4.40441843e+103])\n",
    "x.add_column(col[1], [ 4.45366352e+12 , 2.64896280e+12 ,-3.48433496e+12,  3.43217406e+12,\n",
    "  2.07627534e+12, -3.82693643e+12 ,-1.18875494e+12 , 2.97146993e+12,\n",
    " -3.05507399e+12 ,-1.13939634e+12 , 2.23499414e+11 ,-4.56769463e+11,\n",
    " -4.04597576e+12])\n",
    "print(x)"
   ]
  },
  {
   "cell_type": "markdown",
   "metadata": {},
   "source": [
    "*   Sklearn sgd is slightly better than or manual sgd\n",
    "*    For lower values of learning rate our manual sgd is not as good as sklearn sgd"
   ]
  }
 ],
 "metadata": {
  "kernelspec": {
   "display_name": "Python 3",
   "language": "python",
   "name": "python3"
  },
  "language_info": {
   "codemirror_mode": {
    "name": "ipython",
    "version": 3
   },
   "file_extension": ".py",
   "mimetype": "text/x-python",
   "name": "python",
   "nbconvert_exporter": "python",
   "pygments_lexer": "ipython3",
   "version": "3.7.1"
  }
 },
 "nbformat": 4,
 "nbformat_minor": 2
}
